# add summary tables to juptyer notebook

